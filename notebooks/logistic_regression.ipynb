{
 "cells": [
  {
   "cell_type": "markdown",
   "metadata": {},
   "source": [
    "# Logistic Regression Model\n",
    "In this section, we will build and evaluate a Logistic Regression model using Scikit-Learn. The model will be trained on a dataset to predict employee attrition."
   ]
  },
  {
   "cell_type": "code",
   "execution_count": 20,
   "metadata": {},
   "outputs": [],
   "source": [
    "import pandas as pd\n",
    "from sklearn.model_selection import train_test_split\n",
    "from sklearn.linear_model import LogisticRegression\n",
    "from sklearn.metrics import accuracy_score\n",
    "from sklearn.metrics import confusion_matrix\n",
    "from sklearn.metrics import classification_report\n",
    "import matplotlib.pyplot as plt\n",
    "import os \n",
    "import sys\n",
    "import seaborn as sns"
   ]
  },
  {
   "cell_type": "code",
   "execution_count": 21,
   "metadata": {},
   "outputs": [],
   "source": [
    "base_dir = os.path.dirname(os.getcwd())\n",
    "path_dataset = os.path.join(base_dir, 'datasets', 'OneHotEncoded_Human_Resources.csv')\n",
    "data_frame = pd.read_csv(path_dataset)\n",
    "Y = data_frame['Attrition']\n",
    "X = data_frame.drop('Attrition', axis=1)"
   ]
  },
  {
   "cell_type": "code",
   "execution_count": 22,
   "metadata": {},
   "outputs": [],
   "source": [
    "# Dataset split\n",
    "X_train, X_test, Y_train, Y_test = train_test_split(X, Y, test_size=0.2, random_state=42)"
   ]
  },
  {
   "cell_type": "code",
   "execution_count": 23,
   "metadata": {},
   "outputs": [],
   "source": [
    "# Model\n",
    "model = LogisticRegression()\n",
    "model.fit(X_train, Y_train) # Training\n",
    "Y_pred = model.predict(X_test) # Testing"
   ]
  },
  {
   "cell_type": "markdown",
   "metadata": {},
   "source": [
    "##### Acuracy \n",
    "The cell below calculates and prints the accuracy of the Logistic Regression model on the test dataset. The accuracy is a measure of how well the model is able to predict the correct class labels for the test data. \n",
    "\n",
    "The accuracy of the model is 0.8878, which means that the model correctly predicts the class labels for approximately 88.78% of the test data. This indicates that the model has a good performance in predicting employee attrition."
   ]
  },
  {
   "cell_type": "code",
   "execution_count": 24,
   "metadata": {},
   "outputs": [
    {
     "name": "stdout",
     "output_type": "stream",
     "text": [
      "Accuracy:  0.8877551020408163\n"
     ]
    }
   ],
   "source": [
    "accuracy = accuracy_score(Y_test, Y_pred)\n",
    "print('Accuracy: ', accuracy)"
   ]
  },
  {
   "cell_type": "markdown",
   "metadata": {},
   "source": [
    "#### Classification \n",
    "The cell below prints the classification report, which includes precision, recall, f1-score, and support for each class. This report provides a detailed analysis of the model's performance on the test dataset.\n",
    "\n",
    "The classification report shows that the model has a high precision and recall for the majority class (Attrition = 0), but lower precision and recall for the minority class (Attrition = 1). This indicates that the model performs well in predicting the majority class but struggles with the minority class. Overall, the model has an accuracy of 88.78%, which suggests it is effective in predicting employee attrition. There's room for improvement."
   ]
  },
  {
   "cell_type": "code",
   "execution_count": 31,
   "metadata": {},
   "outputs": [
    {
     "name": "stdout",
     "output_type": "stream",
     "text": [
      "Classification Report:                precision    recall  f1-score   support\n",
      "\n",
      "         0.0       0.91      0.97      0.94       255\n",
      "         1.0       0.65      0.33      0.44        39\n",
      "\n",
      "    accuracy                           0.89       294\n",
      "   macro avg       0.78      0.65      0.69       294\n",
      "weighted avg       0.87      0.89      0.87       294\n",
      "\n"
     ]
    }
   ],
   "source": [
    "class_report = classification_report(Y_test, Y_pred)\n",
    "print('Classification Report: ', class_report)"
   ]
  },
  {
   "cell_type": "markdown",
   "metadata": {},
   "source": [
    "#### Confusion Matrix\n",
    "The cell below calculates and displays the confusion matrix for the Logistic Regression model's predictions on the test dataset. The confusion matrix provides a summary of the prediction results, showing the number of true positives, true negatives, false positives, and false negatives. This helps in understanding the performance of the model in terms of correctly and incorrectly classified instances.\n",
    "\n",
    "Overall, the confusion matrix indicates that the model performs well in predicting the majority class (Attrition = 0) but has some difficulty in accurately predicting the minority class (Attrition = 1). This is evident from the higher number of false negatives compared to false positives. The model's accuracy of 88.78% suggests it is effective in predicting employee attrition, but there is room for improvement, particularly in handling the minority class."
   ]
  },
  {
   "cell_type": "code",
   "execution_count": 32,
   "metadata": {},
   "outputs": [
    {
     "name": "stdout",
     "output_type": "stream",
     "text": [
      "Confusion Matrix: \n",
      " [[248   7]\n",
      " [ 26  13]]\n"
     ]
    },
    {
     "data": {
      "image/png": "[encoded data removed]",
      "text/plain": [
       "<Figure size 640x480 with 2 Axes>"
      ]
     },
     "metadata": {},
     "output_type": "display_data"
    }
   ],
   "source": [
    "conf_matrix = confusion_matrix(Y_test, Y_pred)\n",
    "print('Confusion Matrix: \\n', conf_matrix)\n",
    "sns.heatmap(conf_matrix, annot=True)\n",
    "plt.show()"
   ]
  }
 ],
 "metadata": {
  "kernelspec": {
   "display_name": "Python 3",
   "language": "python",
   "name": "python3"
  },
  "language_info": {
   "codemirror_mode": {
    "name": "ipython",
    "version": 3
   },
   "file_extension": ".py",
   "mimetype": "text/x-python",
   "name": "python",
   "nbconvert_exporter": "python",
   "pygments_lexer": "ipython3",
   "version": "3.11.9"
  }
 },
 "nbformat": 4,
 "nbformat_minor": 2
}
