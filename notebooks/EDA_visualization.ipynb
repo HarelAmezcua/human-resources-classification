{
 "cells": [
  {
   "cell_type": "markdown",
   "metadata": {},
   "source": [
    "# Exploratory Data Analysis (EDA)\n",
    "\n",
    "In this section, we will perform an Exploratory Data Analysis (EDA) on the Human Resources dataset. EDA is a crucial step in the data analysis process, as it helps us understand the underlying patterns, detect anomalies, test hypotheses, and check assumptions through summary statistics and graphical representations. Let's dive into the data and uncover insights that will guide our further analysis."
   ]
  },
  {
   "cell_type": "code",
   "execution_count": null,
   "metadata": {},
   "outputs": [],
   "source": [
    "# Importing the libraries\n",
    "import os\n",
    "import sys\n",
    "import numpy as np\n",
    "import pandas as pd\n",
    "import seaborn as sns\n",
    "import json\n",
    "import matplotlib.pyplot as plt"
   ]
  },
  {
   "cell_type": "code",
   "execution_count": null,
   "metadata": {},
   "outputs": [],
   "source": [
    "base_dir = os.path.dirname(os.getcwd())\n",
    "data_frame = pd.read_csv(os.path.join(base_dir, 'datasets', 'Cleaned_Human_Resources.csv'))\n",
    "print(\"Number of rows: \",len(data_frame))\n",
    "print('Number of columns: ',len(data_frame.columns))"
   ]
  },
  {
   "cell_type": "markdown",
   "metadata": {},
   "source": [
    "It is worth noting that the dataset has been cleaned and preprocessed. We have ensured that there are no missing values and have dropped columns with only one unique value. Additionally, categorical variables have been converted into numerical values for further analysis."
   ]
  },
  {
   "cell_type": "code",
   "execution_count": null,
   "metadata": {},
   "outputs": [],
   "source": [
    "with open(os.path.join(base_dir, 'datasets', 'unique_elements.json')) as f:\n",
    "    data_dict = json.load(f)\n",
    "\n",
    "# Print the dictionary for categorical columns\n",
    "for key in data_dict.keys():\n",
    "    print(key, \" : \", data_dict[key]) "
   ]
  },
  {
   "cell_type": "code",
   "execution_count": null,
   "metadata": {},
   "outputs": [],
   "source": [
    "data_frame.hist(figsize=(20, 50), bins=50, xlabelsize=12, ylabelsize=12, layout=(int(np.ceil(data_frame.shape[1] / 3)), 3));"
   ]
  },
  {
   "cell_type": "code",
   "execution_count": null,
   "metadata": {},
   "outputs": [],
   "source": [
    "left_df = data_frame[data_frame['Attrition'] == 'Yes']\n",
    "stay_df = data_frame[data_frame['Attrition'] == 'No']\n",
    "\n",
    "print('Total of employees =', len(data_frame))\n",
    "print('Number of employees who left:', len(left_df))\n",
    "print('Number of employees who stayed:', len(stay_df))"
   ]
  },
  {
   "cell_type": "code",
   "execution_count": null,
   "metadata": {},
   "outputs": [],
   "source": [
    "# Display the statistics of the employees who left\n",
    "left_df.describe()"
   ]
  },
  {
   "cell_type": "code",
   "execution_count": null,
   "metadata": {},
   "outputs": [],
   "source": [
    "# Display the statistics of the employees who stayed\n",
    "stay_df.describe()"
   ]
  },
  {
   "cell_type": "markdown",
   "metadata": {},
   "source": [
    "#### Correlation Heatmap\n",
    "\n",
    "The correlation heatmap below visualizes the relationships between different features in the dataset. Each cell in the heatmap shows the correlation coefficient between two variables. The values range from -1 to 1, where:\n",
    "\n",
    "- **1** indicates a perfect positive correlation\n",
    "- **-1** indicates a perfect negative correlation\n",
    "- **0** indicates no correlation\n",
    "\n",
    "This heatmap helps us understand which features are strongly correlated with each other, which can be useful for feature selection and understanding the underlying structure of the data."
   ]
  },
  {
   "cell_type": "code",
   "execution_count": null,
   "metadata": {},
   "outputs": [],
   "source": [
    "# Select only numeric columns\n",
    "numeric_data_frame = data_frame.select_dtypes(include=[np.number])\n",
    "\n",
    "# Calculate correlations\n",
    "correlations = numeric_data_frame.corr()\n",
    "\n",
    "# Plot heatmap\n",
    "f, ax = plt.subplots(figsize=(40, 40))\n",
    "sns.heatmap(correlations, annot=True, cmap='coolwarm', fmt=\".2f\", ax=ax, annot_kws={\"size\": 20})"
   ]
  },
  {
   "cell_type": "code",
   "execution_count": null,
   "metadata": {},
   "outputs": [],
   "source": [
    "plt.figure(figsize=(20, 7))\n",
    "ax = sns.countplot(x='Age', hue='Attrition', data=data_frame, palette='viridis')\n",
    "ax.set_facecolor('lightgrey')\n",
    "plt.title('Age Distribution by Attrition')\n",
    "plt.xlabel('Age')\n",
    "plt.ylabel('Count')\n",
    "plt.legend(title='Attrition', labels=['No', 'Yes'])\n",
    "plt.show()"
   ]
  },
  {
   "cell_type": "code",
   "execution_count": null,
   "metadata": {},
   "outputs": [],
   "source": [
    "plt.figure(figsize=(20, 30));\n",
    "plt.subplot(4, 1, 1)\n",
    "sns.countplot(x='JobRole', hue='Attrition', data=data_frame, palette='viridis')\n",
    "plt.title('Job Role Distribution by Attrition')\n",
    "plt.xlabel('Job Role')\n",
    "plt.ylabel('Count')\n",
    "plt.legend(title='Attrition', labels=['No', 'Yes'])\n",
    "plt.subplot(4, 1, 2)\n",
    "sns.countplot(x='MaritalStatus', hue='Attrition', data=data_frame, palette='viridis')\n",
    "plt.title('Marital Status Distribution by Attrition')\n",
    "plt.xlabel('Marital Status')\n",
    "plt.ylabel('Count')\n",
    "plt.legend(title='Attrition', labels=['No', 'Yes'])\n",
    "plt.subplot(4, 1, 3)\n",
    "sns.countplot(x='JobInvolvement', hue='Attrition', data=data_frame, palette='viridis')\n",
    "plt.title('Job Involvement Distribution by Attrition')\n",
    "plt.xlabel('Job Involvement')\n",
    "plt.ylabel('Count')\n",
    "plt.legend(title='Attrition', labels=['No', 'Yes'])\n",
    "plt.subplot(4, 1, 4)\n",
    "sns.countplot(x='JobLevel', hue='Attrition', data=data_frame, palette='viridis')\n",
    "plt.title('Job Level Distribution by Attrition')\n",
    "plt.xlabel('Job Level')\n",
    "plt.ylabel('Count')\n",
    "plt.legend(title='Attrition', labels=['No', 'Yes'])\n",
    "plt.show()"
   ]
  },
  {
   "cell_type": "code",
   "execution_count": null,
   "metadata": {},
   "outputs": [],
   "source": [
    "# Monthly Income Distribution by Attrition\n",
    "plt.figure(figsize=(12, 7));\n",
    "sns.kdeplot(left_df['MonthlyIncome'], label='Employees who left', fill=True, color='r');\n",
    "sns.kdeplot(stay_df['MonthlyIncome'], label='Employees who stayed', fill=True, color='b');\n",
    "plt.xlabel('Monthly Income');\n",
    "plt.ylabel('Density');\n",
    "plt.title('Monthly Income Distribution by Attrition');\n",
    "plt.legend(title='Attrition', labels=['Yes', 'No']);\n",
    "plt.show()"
   ]
  },
  {
   "cell_type": "code",
   "execution_count": null,
   "metadata": {},
   "outputs": [],
   "source": [
    "# Monthly Income Distribution by Attrition\n",
    "plt.figure(figsize=(12, 7));\n",
    "sns.kdeplot(left_df['DistanceFromHome'], label='Employees who left', fill=True, color='r');\n",
    "sns.kdeplot(stay_df['DistanceFromHome'], label='Employees who stayed', fill=True, color='b');\n",
    "plt.xlabel('Distance FromHome [km]');\n",
    "plt.ylabel('Density');\n",
    "plt.title('Distance FromHome Distribution by Attrition');\n",
    "plt.legend(title='Attrition', labels=['Yes', 'No']);\n",
    "plt.show()"
   ]
  },
  {
   "cell_type": "code",
   "execution_count": null,
   "metadata": {},
   "outputs": [],
   "source": [
    "# Convert Gender to a categorical type if it's not already\n",
    "data_frame['Gender'] = data_frame['Gender'].astype('category')\n",
    "\n",
    "plt.figure(figsize=(15, 10))\n",
    "sns.boxplot(x='MonthlyIncome', y='Gender', data=data_frame, palette='viridis', hue='Gender');\n",
    "#data_frame['Gender'] = data_frame['Gender'].astype('int');\n",
    "#plt.yticks(ticks=range(len(data_frame['Gender'].unique())), labels=list(data_dict['Gender'].values()));\n",
    "\n",
    "plt.title('Monthly Income Distribution by Gender')\n",
    "plt.xlabel('Monthly Income')\n",
    "plt.ylabel('Gender')\n",
    "plt.show()"
   ]
  },
  {
   "cell_type": "code",
   "execution_count": null,
   "metadata": {},
   "outputs": [],
   "source": [
    "# Convert Gender to a categorical type if it's not already\n",
    "data_frame['JobRole'] = data_frame['JobRole'].astype('category')\n",
    "\n",
    "plt.figure(figsize=(15, 10))\n",
    "sns.boxplot(x='MonthlyIncome', y='JobRole', data=data_frame, palette='viridis', hue='JobRole');"
   ]
  }
 ],
 "metadata": {
  "kernelspec": {
   "display_name": "Python 3",
   "language": "python",
   "name": "python3"
  },
  "language_info": {
   "codemirror_mode": {
    "name": "ipython",
    "version": 3
   },
   "file_extension": ".py",
   "mimetype": "text/x-python",
   "name": "python",
   "nbconvert_exporter": "python",
   "pygments_lexer": "ipython3",
   "version": "3.11.9"
  }
 },
 "nbformat": 4,
 "nbformat_minor": 2
}
